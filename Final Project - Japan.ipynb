{
 "cells": [
  {
   "cell_type": "markdown",
   "id": "301d5eaf",
   "metadata": {},
   "source": [
    "## Analyzing COVID-19 Data in Japan"
   ]
  },
  {
   "cell_type": "markdown",
   "id": "5636706c",
   "metadata": {},
   "source": [
    "![covid image Japan](https://images.newscientist.com/wp-content/uploads/2021/08/02160211/gettyimages-1234331760_web.jpg)"
   ]
  },
  {
   "cell_type": "markdown",
   "id": "51f605ca",
   "metadata": {},
   "source": [
    "## Introduction and COVID-19 Background"
   ]
  },
  {
   "cell_type": "markdown",
   "id": "17429aa3",
   "metadata": {},
   "source": [
    "Coronavirus disease (COVID-19) is an infectious disease caused by the SARS-CoV-2 virus. COVID-19 can spread from person to person through droplets from the infected individual; this can be from a sneeze or cough. Coronavirus can also mutate into different more infectious variants that can increase infection rates worldwide. \n",
    "\n",
    "As of May 7th, 2022, there are an estimated 512 million documented cases globally. COVID-19 has impacted society in many ways that were never experienced. To this day, we are still feeling the lasting effects of COVID-19 and do not know when things will completely return to normal.   "
   ]
  },
  {
   "cell_type": "markdown",
   "id": "a9acc500",
   "metadata": {},
   "source": [
    "## Data Source"
   ]
  },
  {
   "cell_type": "markdown",
   "id": "a72a4eb8",
   "metadata": {},
   "source": [
    "The Data is from [European Centre for Disease Prevention and Control](https://www.ecdc.europa.eu/en/publications-data/download-todays-data-geographic-distribution-covid-19-cases-worldwide)"
   ]
  },
  {
   "cell_type": "code",
   "execution_count": 2,
   "id": "8fe9f7ff",
   "metadata": {},
   "outputs": [],
   "source": [
    "%matplotlib inline\n",
    "import pandas"
   ]
  },
  {
   "cell_type": "code",
   "execution_count": 3,
   "id": "4767aef8",
   "metadata": {},
   "outputs": [
    {
     "data": {
      "text/html": [
       "<div>\n",
       "<style scoped>\n",
       "    .dataframe tbody tr th:only-of-type {\n",
       "        vertical-align: middle;\n",
       "    }\n",
       "\n",
       "    .dataframe tbody tr th {\n",
       "        vertical-align: top;\n",
       "    }\n",
       "\n",
       "    .dataframe thead th {\n",
       "        text-align: right;\n",
       "    }\n",
       "</style>\n",
       "<table border=\"1\" class=\"dataframe\">\n",
       "  <thead>\n",
       "    <tr style=\"text-align: right;\">\n",
       "      <th></th>\n",
       "      <th>dateRep</th>\n",
       "      <th>day</th>\n",
       "      <th>month</th>\n",
       "      <th>year</th>\n",
       "      <th>cases</th>\n",
       "      <th>deaths</th>\n",
       "      <th>countriesAndTerritories</th>\n",
       "      <th>geoId</th>\n",
       "      <th>countryterritoryCode</th>\n",
       "      <th>popData2019</th>\n",
       "      <th>continentExp</th>\n",
       "      <th>Cumulative_number_for_14_days_of_COVID-19_cases_per_100000</th>\n",
       "    </tr>\n",
       "  </thead>\n",
       "  <tbody>\n",
       "    <tr>\n",
       "      <th>0</th>\n",
       "      <td>14/12/2020</td>\n",
       "      <td>14</td>\n",
       "      <td>12</td>\n",
       "      <td>2020</td>\n",
       "      <td>746</td>\n",
       "      <td>6</td>\n",
       "      <td>Afghanistan</td>\n",
       "      <td>AF</td>\n",
       "      <td>AFG</td>\n",
       "      <td>38041757.0</td>\n",
       "      <td>Asia</td>\n",
       "      <td>9.013779</td>\n",
       "    </tr>\n",
       "    <tr>\n",
       "      <th>1</th>\n",
       "      <td>13/12/2020</td>\n",
       "      <td>13</td>\n",
       "      <td>12</td>\n",
       "      <td>2020</td>\n",
       "      <td>298</td>\n",
       "      <td>9</td>\n",
       "      <td>Afghanistan</td>\n",
       "      <td>AF</td>\n",
       "      <td>AFG</td>\n",
       "      <td>38041757.0</td>\n",
       "      <td>Asia</td>\n",
       "      <td>7.052776</td>\n",
       "    </tr>\n",
       "    <tr>\n",
       "      <th>2</th>\n",
       "      <td>2020-12-12 00:00:00</td>\n",
       "      <td>12</td>\n",
       "      <td>12</td>\n",
       "      <td>2020</td>\n",
       "      <td>113</td>\n",
       "      <td>11</td>\n",
       "      <td>Afghanistan</td>\n",
       "      <td>AF</td>\n",
       "      <td>AFG</td>\n",
       "      <td>38041757.0</td>\n",
       "      <td>Asia</td>\n",
       "      <td>6.868768</td>\n",
       "    </tr>\n",
       "    <tr>\n",
       "      <th>3</th>\n",
       "      <td>2020-11-12 00:00:00</td>\n",
       "      <td>11</td>\n",
       "      <td>12</td>\n",
       "      <td>2020</td>\n",
       "      <td>63</td>\n",
       "      <td>10</td>\n",
       "      <td>Afghanistan</td>\n",
       "      <td>AF</td>\n",
       "      <td>AFG</td>\n",
       "      <td>38041757.0</td>\n",
       "      <td>Asia</td>\n",
       "      <td>7.134266</td>\n",
       "    </tr>\n",
       "    <tr>\n",
       "      <th>4</th>\n",
       "      <td>2020-10-12 00:00:00</td>\n",
       "      <td>10</td>\n",
       "      <td>12</td>\n",
       "      <td>2020</td>\n",
       "      <td>202</td>\n",
       "      <td>16</td>\n",
       "      <td>Afghanistan</td>\n",
       "      <td>AF</td>\n",
       "      <td>AFG</td>\n",
       "      <td>38041757.0</td>\n",
       "      <td>Asia</td>\n",
       "      <td>6.968658</td>\n",
       "    </tr>\n",
       "    <tr>\n",
       "      <th>5</th>\n",
       "      <td>2020-09-12 00:00:00</td>\n",
       "      <td>9</td>\n",
       "      <td>12</td>\n",
       "      <td>2020</td>\n",
       "      <td>135</td>\n",
       "      <td>13</td>\n",
       "      <td>Afghanistan</td>\n",
       "      <td>AF</td>\n",
       "      <td>AFG</td>\n",
       "      <td>38041757.0</td>\n",
       "      <td>Asia</td>\n",
       "      <td>6.963401</td>\n",
       "    </tr>\n",
       "    <tr>\n",
       "      <th>6</th>\n",
       "      <td>2020-08-12 00:00:00</td>\n",
       "      <td>8</td>\n",
       "      <td>12</td>\n",
       "      <td>2020</td>\n",
       "      <td>200</td>\n",
       "      <td>6</td>\n",
       "      <td>Afghanistan</td>\n",
       "      <td>AF</td>\n",
       "      <td>AFG</td>\n",
       "      <td>38041757.0</td>\n",
       "      <td>Asia</td>\n",
       "      <td>7.094835</td>\n",
       "    </tr>\n",
       "    <tr>\n",
       "      <th>7</th>\n",
       "      <td>2020-07-12 00:00:00</td>\n",
       "      <td>7</td>\n",
       "      <td>12</td>\n",
       "      <td>2020</td>\n",
       "      <td>210</td>\n",
       "      <td>26</td>\n",
       "      <td>Afghanistan</td>\n",
       "      <td>AF</td>\n",
       "      <td>AFG</td>\n",
       "      <td>38041757.0</td>\n",
       "      <td>Asia</td>\n",
       "      <td>7.215755</td>\n",
       "    </tr>\n",
       "    <tr>\n",
       "      <th>8</th>\n",
       "      <td>2020-06-12 00:00:00</td>\n",
       "      <td>6</td>\n",
       "      <td>12</td>\n",
       "      <td>2020</td>\n",
       "      <td>234</td>\n",
       "      <td>10</td>\n",
       "      <td>Afghanistan</td>\n",
       "      <td>AF</td>\n",
       "      <td>AFG</td>\n",
       "      <td>38041757.0</td>\n",
       "      <td>Asia</td>\n",
       "      <td>7.326160</td>\n",
       "    </tr>\n",
       "    <tr>\n",
       "      <th>9</th>\n",
       "      <td>2020-05-12 00:00:00</td>\n",
       "      <td>5</td>\n",
       "      <td>12</td>\n",
       "      <td>2020</td>\n",
       "      <td>235</td>\n",
       "      <td>18</td>\n",
       "      <td>Afghanistan</td>\n",
       "      <td>AF</td>\n",
       "      <td>AFG</td>\n",
       "      <td>38041757.0</td>\n",
       "      <td>Asia</td>\n",
       "      <td>7.115865</td>\n",
       "    </tr>\n",
       "  </tbody>\n",
       "</table>\n",
       "</div>"
      ],
      "text/plain": [
       "               dateRep  day  month  year  cases  deaths  \\\n",
       "0           14/12/2020   14     12  2020    746       6   \n",
       "1           13/12/2020   13     12  2020    298       9   \n",
       "2  2020-12-12 00:00:00   12     12  2020    113      11   \n",
       "3  2020-11-12 00:00:00   11     12  2020     63      10   \n",
       "4  2020-10-12 00:00:00   10     12  2020    202      16   \n",
       "5  2020-09-12 00:00:00    9     12  2020    135      13   \n",
       "6  2020-08-12 00:00:00    8     12  2020    200       6   \n",
       "7  2020-07-12 00:00:00    7     12  2020    210      26   \n",
       "8  2020-06-12 00:00:00    6     12  2020    234      10   \n",
       "9  2020-05-12 00:00:00    5     12  2020    235      18   \n",
       "\n",
       "  countriesAndTerritories geoId countryterritoryCode  popData2019  \\\n",
       "0             Afghanistan    AF                  AFG   38041757.0   \n",
       "1             Afghanistan    AF                  AFG   38041757.0   \n",
       "2             Afghanistan    AF                  AFG   38041757.0   \n",
       "3             Afghanistan    AF                  AFG   38041757.0   \n",
       "4             Afghanistan    AF                  AFG   38041757.0   \n",
       "5             Afghanistan    AF                  AFG   38041757.0   \n",
       "6             Afghanistan    AF                  AFG   38041757.0   \n",
       "7             Afghanistan    AF                  AFG   38041757.0   \n",
       "8             Afghanistan    AF                  AFG   38041757.0   \n",
       "9             Afghanistan    AF                  AFG   38041757.0   \n",
       "\n",
       "  continentExp  Cumulative_number_for_14_days_of_COVID-19_cases_per_100000  \n",
       "0         Asia                                           9.013779           \n",
       "1         Asia                                           7.052776           \n",
       "2         Asia                                           6.868768           \n",
       "3         Asia                                           7.134266           \n",
       "4         Asia                                           6.968658           \n",
       "5         Asia                                           6.963401           \n",
       "6         Asia                                           7.094835           \n",
       "7         Asia                                           7.215755           \n",
       "8         Asia                                           7.326160           \n",
       "9         Asia                                           7.115865           "
      ]
     },
     "execution_count": 3,
     "metadata": {},
     "output_type": "execute_result"
    }
   ],
   "source": [
    "df = pandas.read_excel('s3://ia241-1spring2022-michael/covid_data.xls')\n",
    "df[:10]"
   ]
  },
  {
   "cell_type": "markdown",
   "id": "99dbf5c7",
   "metadata": {},
   "source": [
    "## Japan's COVID-19 Data"
   ]
  },
  {
   "cell_type": "markdown",
   "id": "1273f947",
   "metadata": {},
   "source": [
    "The data represented is a small portion of data on Japan that was collected by the European Centre for Disease Prevention and Control. The data was pulled from the source using the command that only draws data from the \"countriesAndTerritories\" column. The data frame command then conveyed ten days of data relating to the COVID-19 virus in Japan."
   ]
  },
  {
   "cell_type": "code",
   "execution_count": 4,
   "id": "818ce4e9",
   "metadata": {},
   "outputs": [
    {
     "data": {
      "text/html": [
       "<div>\n",
       "<style scoped>\n",
       "    .dataframe tbody tr th:only-of-type {\n",
       "        vertical-align: middle;\n",
       "    }\n",
       "\n",
       "    .dataframe tbody tr th {\n",
       "        vertical-align: top;\n",
       "    }\n",
       "\n",
       "    .dataframe thead th {\n",
       "        text-align: right;\n",
       "    }\n",
       "</style>\n",
       "<table border=\"1\" class=\"dataframe\">\n",
       "  <thead>\n",
       "    <tr style=\"text-align: right;\">\n",
       "      <th></th>\n",
       "      <th>dateRep</th>\n",
       "      <th>day</th>\n",
       "      <th>month</th>\n",
       "      <th>year</th>\n",
       "      <th>cases</th>\n",
       "      <th>deaths</th>\n",
       "      <th>countriesAndTerritories</th>\n",
       "      <th>geoId</th>\n",
       "      <th>countryterritoryCode</th>\n",
       "      <th>popData2019</th>\n",
       "      <th>continentExp</th>\n",
       "      <th>Cumulative_number_for_14_days_of_COVID-19_cases_per_100000</th>\n",
       "    </tr>\n",
       "  </thead>\n",
       "  <tbody>\n",
       "    <tr>\n",
       "      <th>29726</th>\n",
       "      <td>14/12/2020</td>\n",
       "      <td>14</td>\n",
       "      <td>12</td>\n",
       "      <td>2020</td>\n",
       "      <td>2366</td>\n",
       "      <td>23</td>\n",
       "      <td>Japan</td>\n",
       "      <td>JP</td>\n",
       "      <td>JPN</td>\n",
       "      <td>126860299.0</td>\n",
       "      <td>Asia</td>\n",
       "      <td>25.928522</td>\n",
       "    </tr>\n",
       "    <tr>\n",
       "      <th>29727</th>\n",
       "      <td>13/12/2020</td>\n",
       "      <td>13</td>\n",
       "      <td>12</td>\n",
       "      <td>2020</td>\n",
       "      <td>2988</td>\n",
       "      <td>28</td>\n",
       "      <td>Japan</td>\n",
       "      <td>JP</td>\n",
       "      <td>JPN</td>\n",
       "      <td>126860299.0</td>\n",
       "      <td>Asia</td>\n",
       "      <td>25.724360</td>\n",
       "    </tr>\n",
       "    <tr>\n",
       "      <th>29728</th>\n",
       "      <td>2020-12-12 00:00:00</td>\n",
       "      <td>12</td>\n",
       "      <td>12</td>\n",
       "      <td>2020</td>\n",
       "      <td>2757</td>\n",
       "      <td>32</td>\n",
       "      <td>Japan</td>\n",
       "      <td>JP</td>\n",
       "      <td>JPN</td>\n",
       "      <td>126860299.0</td>\n",
       "      <td>Asia</td>\n",
       "      <td>25.406688</td>\n",
       "    </tr>\n",
       "    <tr>\n",
       "      <th>29729</th>\n",
       "      <td>2020-11-12 00:00:00</td>\n",
       "      <td>11</td>\n",
       "      <td>12</td>\n",
       "      <td>2020</td>\n",
       "      <td>2969</td>\n",
       "      <td>37</td>\n",
       "      <td>Japan</td>\n",
       "      <td>JP</td>\n",
       "      <td>JPN</td>\n",
       "      <td>126860299.0</td>\n",
       "      <td>Asia</td>\n",
       "      <td>25.264799</td>\n",
       "    </tr>\n",
       "    <tr>\n",
       "      <th>29730</th>\n",
       "      <td>2020-10-12 00:00:00</td>\n",
       "      <td>10</td>\n",
       "      <td>12</td>\n",
       "      <td>2020</td>\n",
       "      <td>2733</td>\n",
       "      <td>45</td>\n",
       "      <td>Japan</td>\n",
       "      <td>JP</td>\n",
       "      <td>JPN</td>\n",
       "      <td>126860299.0</td>\n",
       "      <td>Asia</td>\n",
       "      <td>24.682269</td>\n",
       "    </tr>\n",
       "    <tr>\n",
       "      <th>29731</th>\n",
       "      <td>2020-09-12 00:00:00</td>\n",
       "      <td>9</td>\n",
       "      <td>12</td>\n",
       "      <td>2020</td>\n",
       "      <td>1911</td>\n",
       "      <td>38</td>\n",
       "      <td>Japan</td>\n",
       "      <td>JP</td>\n",
       "      <td>JPN</td>\n",
       "      <td>126860299.0</td>\n",
       "      <td>Asia</td>\n",
       "      <td>23.994899</td>\n",
       "    </tr>\n",
       "    <tr>\n",
       "      <th>29732</th>\n",
       "      <td>2020-08-12 00:00:00</td>\n",
       "      <td>8</td>\n",
       "      <td>12</td>\n",
       "      <td>2020</td>\n",
       "      <td>1862</td>\n",
       "      <td>47</td>\n",
       "      <td>Japan</td>\n",
       "      <td>JP</td>\n",
       "      <td>JPN</td>\n",
       "      <td>126860299.0</td>\n",
       "      <td>Asia</td>\n",
       "      <td>23.648060</td>\n",
       "    </tr>\n",
       "    <tr>\n",
       "      <th>29733</th>\n",
       "      <td>2020-07-12 00:00:00</td>\n",
       "      <td>7</td>\n",
       "      <td>12</td>\n",
       "      <td>2020</td>\n",
       "      <td>1969</td>\n",
       "      <td>20</td>\n",
       "      <td>Japan</td>\n",
       "      <td>JP</td>\n",
       "      <td>JPN</td>\n",
       "      <td>126860299.0</td>\n",
       "      <td>Asia</td>\n",
       "      <td>24.554569</td>\n",
       "    </tr>\n",
       "    <tr>\n",
       "      <th>29734</th>\n",
       "      <td>2020-06-12 00:00:00</td>\n",
       "      <td>6</td>\n",
       "      <td>12</td>\n",
       "      <td>2020</td>\n",
       "      <td>2424</td>\n",
       "      <td>32</td>\n",
       "      <td>Japan</td>\n",
       "      <td>JP</td>\n",
       "      <td>JPN</td>\n",
       "      <td>126860299.0</td>\n",
       "      <td>Asia</td>\n",
       "      <td>23.584211</td>\n",
       "    </tr>\n",
       "    <tr>\n",
       "      <th>29735</th>\n",
       "      <td>2020-05-12 00:00:00</td>\n",
       "      <td>5</td>\n",
       "      <td>12</td>\n",
       "      <td>2020</td>\n",
       "      <td>2442</td>\n",
       "      <td>43</td>\n",
       "      <td>Japan</td>\n",
       "      <td>JP</td>\n",
       "      <td>JPN</td>\n",
       "      <td>126860299.0</td>\n",
       "      <td>Asia</td>\n",
       "      <td>23.655155</td>\n",
       "    </tr>\n",
       "  </tbody>\n",
       "</table>\n",
       "</div>"
      ],
      "text/plain": [
       "                   dateRep  day  month  year  cases  deaths  \\\n",
       "29726           14/12/2020   14     12  2020   2366      23   \n",
       "29727           13/12/2020   13     12  2020   2988      28   \n",
       "29728  2020-12-12 00:00:00   12     12  2020   2757      32   \n",
       "29729  2020-11-12 00:00:00   11     12  2020   2969      37   \n",
       "29730  2020-10-12 00:00:00   10     12  2020   2733      45   \n",
       "29731  2020-09-12 00:00:00    9     12  2020   1911      38   \n",
       "29732  2020-08-12 00:00:00    8     12  2020   1862      47   \n",
       "29733  2020-07-12 00:00:00    7     12  2020   1969      20   \n",
       "29734  2020-06-12 00:00:00    6     12  2020   2424      32   \n",
       "29735  2020-05-12 00:00:00    5     12  2020   2442      43   \n",
       "\n",
       "      countriesAndTerritories geoId countryterritoryCode  popData2019  \\\n",
       "29726                   Japan    JP                  JPN  126860299.0   \n",
       "29727                   Japan    JP                  JPN  126860299.0   \n",
       "29728                   Japan    JP                  JPN  126860299.0   \n",
       "29729                   Japan    JP                  JPN  126860299.0   \n",
       "29730                   Japan    JP                  JPN  126860299.0   \n",
       "29731                   Japan    JP                  JPN  126860299.0   \n",
       "29732                   Japan    JP                  JPN  126860299.0   \n",
       "29733                   Japan    JP                  JPN  126860299.0   \n",
       "29734                   Japan    JP                  JPN  126860299.0   \n",
       "29735                   Japan    JP                  JPN  126860299.0   \n",
       "\n",
       "      continentExp  Cumulative_number_for_14_days_of_COVID-19_cases_per_100000  \n",
       "29726         Asia                                          25.928522           \n",
       "29727         Asia                                          25.724360           \n",
       "29728         Asia                                          25.406688           \n",
       "29729         Asia                                          25.264799           \n",
       "29730         Asia                                          24.682269           \n",
       "29731         Asia                                          23.994899           \n",
       "29732         Asia                                          23.648060           \n",
       "29733         Asia                                          24.554569           \n",
       "29734         Asia                                          23.584211           \n",
       "29735         Asia                                          23.655155           "
      ]
     },
     "execution_count": 4,
     "metadata": {},
     "output_type": "execute_result"
    }
   ],
   "source": [
    "japan_data = df.loc[ df['countriesAndTerritories']=='Japan' ]\n",
    "japan_data[:10]"
   ]
  },
  {
   "cell_type": "markdown",
   "id": "c9de417e",
   "metadata": {},
   "source": [
    "## The Sum of COVID-19 Cases as of December 2020"
   ]
  },
  {
   "cell_type": "markdown",
   "id": "014a7e37",
   "metadata": {},
   "source": [
    "This code will output the number of COVID-19 cases from the data source that is available as of December 2020. This is possible with the use of the sum code, and it will draw data from the \"cases\" column of the data. "
   ]
  },
  {
   "cell_type": "code",
   "execution_count": 5,
   "id": "8e50fd5f",
   "metadata": {},
   "outputs": [
    {
     "data": {
      "text/plain": [
       "179653"
      ]
     },
     "execution_count": 5,
     "metadata": {},
     "output_type": "execute_result"
    }
   ],
   "source": [
    "japan_data.sum()['cases']"
   ]
  },
  {
   "cell_type": "markdown",
   "id": "4558ae70",
   "metadata": {},
   "source": [
    "## Months with the Highest Number of COVID-19 Cases"
   ]
  },
  {
   "cell_type": "code",
   "execution_count": 6,
   "id": "b935f0e7",
   "metadata": {},
   "outputs": [
    {
     "data": {
      "text/plain": [
       "<AxesSubplot:xlabel='month'>"
      ]
     },
     "execution_count": 6,
     "metadata": {},
     "output_type": "execute_result"
    },
    {
     "data": {
      "image/png": "[encoded data removed]",
      "text/plain": [
       "<Figure size 432x288 with 1 Axes>"
      ]
     },
     "metadata": {
      "needs_background": "light"
     },
     "output_type": "display_data"
    }
   ],
   "source": [
    "sum_deaths_per_month = japan_data.groupby('month').sum()['deaths']\n",
    "sum_deaths_per_month.plot.bar()"
   ]
  },
  {
   "cell_type": "markdown",
   "id": "155d008f",
   "metadata": {},
   "source": [
    "The bar chart indicates that there are two months with around the same high number of COVID-19 cases in Japan. The months with the highest numbers of deaths related to COVID-19 are May and December of 2020. The month of May passes December for the number of cases by a small margin. "
   ]
  },
  {
   "cell_type": "markdown",
   "id": "75f6828f",
   "metadata": {},
   "source": [
    "## Number of COVID-19 Deaths per Month"
   ]
  },
  {
   "cell_type": "code",
   "execution_count": 7,
   "id": "be4f7b8b",
   "metadata": {},
   "outputs": [
    {
     "name": "stdout",
     "output_type": "stream",
     "text": [
      "month\n",
      "1       0\n",
      "2       3\n",
      "3      53\n",
      "4     359\n",
      "5     476\n",
      "6      81\n",
      "7      33\n",
      "8     274\n",
      "9     285\n",
      "10    191\n",
      "11    364\n",
      "12    466\n",
      "Name: deaths, dtype: int64\n"
     ]
    }
   ],
   "source": [
    "print(sum_deaths_per_month)"
   ]
  },
  {
   "cell_type": "markdown",
   "id": "1e7b0bd2",
   "metadata": {},
   "source": [
    "## Number of Deaths Related to the Number of Cases"
   ]
  },
  {
   "cell_type": "code",
   "execution_count": 12,
   "id": "317cb665",
   "metadata": {},
   "outputs": [
    {
     "data": {
      "text/plain": [
       "<AxesSubplot:xlabel='cases', ylabel='deaths'>"
      ]
     },
     "execution_count": 12,
     "metadata": {},
     "output_type": "execute_result"
    },
    {
     "data": {
      "image/png": "[encoded data removed]",
      "text/plain": [
       "<Figure size 432x288 with 2 Axes>"
      ]
     },
     "metadata": {
      "needs_background": "light"
     },
     "output_type": "display_data"
    }
   ],
   "source": [
    "japan_data.plot.scatter(x='cases',y='deaths',c='month')"
   ]
  },
  {
   "cell_type": "markdown",
   "id": "13b3939f",
   "metadata": {},
   "source": [
    "The scatter plot diagram indicates more deaths at the beginning of COVID-19 in months two through six. As the number of cases increased, the number of fatalities increased but were more dispersed, indicating that during the last six months, COVID-19 deaths decreased overall. "
   ]
  },
  {
   "cell_type": "markdown",
   "id": "43b11e09",
   "metadata": {},
   "source": [
    "## Conclusions and Limitations"
   ]
  },
  {
   "cell_type": "markdown",
   "id": "4ab1b73f",
   "metadata": {},
   "source": [
    " In conclusion, after analyzing the numbers, Japan did not have that many cases in relation to its population of 126 million in 2020. Japan only had around 200,000 cases of COVID-19, with an extremely small fraction of the population. This can be attributed to the fact that the country is a very health-conscious society because its population comprises a large elderly population. Masks are worn at any sign of sickness, even before the existence of COVID-19. Japan likely experienced many COVID-19-related deaths in the early months because its elderly population was infected quicker due to weaker immune systems. \n",
    " \n",
    "The limitations to this research were that the data is not up-to-date and is around two years old. In addition, the European Centre for Disease Prevention and Control (ECDC) only reported documented cases of COVID-19 on the national level. However, the data was sufficient enough to complete this project. "
   ]
  }
 ],
 "metadata": {
  "kernelspec": {
   "display_name": "conda_python3",
   "language": "python",
   "name": "conda_python3"
  },
  "language_info": {
   "codemirror_mode": {
    "name": "ipython",
    "version": 3
   },
   "file_extension": ".py",
   "mimetype": "text/x-python",
   "name": "python",
   "nbconvert_exporter": "python",
   "pygments_lexer": "ipython3",
   "version": "3.6.13"
  }
 },
 "nbformat": 4,
 "nbformat_minor": 5
}
